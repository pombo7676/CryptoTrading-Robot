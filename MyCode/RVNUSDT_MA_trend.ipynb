{
 "cells": [
  {
   "cell_type": "markdown",
   "id": "23863645",
   "metadata": {},
   "source": [
    "# Bot for trading RVNUSDT with upwards trend and Moving average"
   ]
  },
  {
   "cell_type": "markdown",
   "id": "3db132c3",
   "metadata": {},
   "source": [
    "### Installs"
   ]
  },
  {
   "cell_type": "code",
   "execution_count": null,
   "id": "8e43d497",
   "metadata": {},
   "outputs": [],
   "source": [
    "#%pip install python-binance \n",
    "#%pip install numpy\n",
    "#%pip install pandas"
   ]
  },
  {
   "cell_type": "markdown",
   "id": "b1dcce9b",
   "metadata": {},
   "source": [
    "### imports and definition of the coin"
   ]
  },
  {
   "cell_type": "code",
   "execution_count": 1,
   "id": "5264e8f2",
   "metadata": {},
   "outputs": [],
   "source": [
    "import config\n",
    "from binance.client import Client\n",
    "from binance.enums import *\n",
    "import time\n",
    "import numpy as np\n",
    "\n",
    "cliente = Client(config.API_KEY, config.API_SECRET, tld='com')\n",
    "\n",
    "simbolo = 'RVNUSDT'   #Name of specific Symbol we are going to trade\n",
    "quantityOrder = 500 # Quantity of RVN I am going to buy per operation. Around 20$..."
   ]
  },
  {
   "cell_type": "markdown",
   "id": "b9720e40",
   "metadata": {},
   "source": [
    "### Functions"
   ]
  },
  {
   "cell_type": "code",
   "execution_count": 2,
   "id": "94963070",
   "metadata": {},
   "outputs": [],
   "source": [
    "### THIS BOT IS GOING TO OPERATE WITH TRENDS AND LONG TERM MOBILE LINES\n",
    "\n",
    "def trend():\n",
    "    x = []\n",
    "    y = []\n",
    "    sum = 0\n",
    "    ma48_i = 0\n",
    "\n",
    "    resp = False\n",
    "\n",
    "    klines = cliente.get_historical_klines(simbolo, Client.KLINE_INTERVAL_15MINUTE, \"18 hour ago UTC\")\n",
    "\n",
    "    if (len(klines) != 72):\n",
    "        \n",
    "        return False\n",
    "    for i in range (1,72):  # From 24 to 60, we are going to bring 36 Candlesticks of 15mins which will do the average of 9h\n",
    "\n",
    "        for j in range (i-72,i): \n",
    "          sum = sum + float(klines[i][4])  # 4 value makes reference to the closing price of a candlestick\n",
    "        ma48_i = '{:.5f}'.format(sum /72)  #.5 is the quantity of decimals we are going to use. We are giving format to the value\n",
    "        sum = 0\n",
    "        x.append(i)\n",
    "        y.append(float(ma48_i))\n",
    "\n",
    "    model = np.polyfit(x,y,1)\n",
    "    if (model[0]>0):\n",
    "        resp = True\n",
    "    \n",
    "\n",
    "    return resp\n",
    "    \n",
    "\n",
    "\n",
    "def _ma48_():\n",
    "\n",
    "    ma48_local = 0\n",
    "    sum = 0\n",
    "\n",
    "    klines = cliente.get_historical_klines(simbolo, Client.KLINE_INTERVAL_15MINUTE, \"12 hour ago UTC\")\n",
    "\n",
    "    if(len(klines)==48):\n",
    "        for i in range (0,48):\n",
    "            sum = sum +float(klines[i][4]) # 4 value makes reference to the closing price of a candlestick\n",
    "        \n",
    "        ma48_local = sum / 48\n",
    "\n",
    "    return ma48_local"
   ]
  },
  {
   "cell_type": "markdown",
   "id": "42470ce1",
   "metadata": {},
   "source": [
    "### *** Loop operation for continuous trading ***"
   ]
  },
  {
   "cell_type": "code",
   "execution_count": 19,
   "id": "28c72aee",
   "metadata": {},
   "outputs": [
    {
     "name": "stdout",
     "output_type": "stream",
     "text": [
      "Actual Open Orders: \n",
      "[{'symbol': 'RVNUSDT', 'orderId': 640612406, 'orderListId': 79466124, 'clientOrderId': 'KVtOQeyMQGUm2LrlqzFodd', 'price': '0.02174000', 'origQty': '499.50000000', 'executedQty': '0.00000000', 'cummulativeQuoteQty': '0.00000000', 'status': 'NEW', 'timeInForce': 'GTC', 'type': 'STOP_LOSS_LIMIT', 'side': 'SELL', 'stopPrice': '0.02185000', 'icebergQty': '0.00000000', 'time': 1671012210149, 'updateTime': 1671012210149, 'isWorking': False, 'origQuoteOrderQty': '0.00000000'}, {'symbol': 'RVNUSDT', 'orderId': 640612407, 'orderListId': 79466124, 'clientOrderId': 'mWRnbRmPEJbrQ7RsYz3g4L', 'price': '0.02229000', 'origQty': '499.50000000', 'executedQty': '0.00000000', 'cummulativeQuoteQty': '0.00000000', 'status': 'NEW', 'timeInForce': 'GTC', 'type': 'LIMIT_MAKER', 'side': 'SELL', 'stopPrice': '0.00000000', 'icebergQty': '0.00000000', 'time': 1671012210149, 'updateTime': 1671012210149, 'isWorking': True, 'origQuoteOrderQty': '0.00000000'}]\n",
      "Open orders already exist, no more buys\n"
     ]
    },
    {
     "ename": "KeyboardInterrupt",
     "evalue": "",
     "output_type": "error",
     "traceback": [
      "\u001b[1;31m---------------------------------------------------------------------------\u001b[0m",
      "\u001b[1;31mKeyboardInterrupt\u001b[0m                         Traceback (most recent call last)",
      "\u001b[1;32m~\\AppData\\Local\\Temp\\ipykernel_2512\\1016455576.py\u001b[0m in \u001b[0;36m<module>\u001b[1;34m\u001b[0m\n\u001b[0;32m      6\u001b[0m     \u001b[1;32mif\u001b[0m\u001b[1;33m(\u001b[0m\u001b[0mlen\u001b[0m\u001b[1;33m(\u001b[0m\u001b[0morders\u001b[0m\u001b[1;33m)\u001b[0m \u001b[1;33m!=\u001b[0m\u001b[1;36m0\u001b[0m\u001b[1;33m)\u001b[0m\u001b[1;33m:\u001b[0m   \u001b[1;31m# If there is open orders the bot is not going to open a new buy order\u001b[0m\u001b[1;33m\u001b[0m\u001b[1;33m\u001b[0m\u001b[0m\n\u001b[0;32m      7\u001b[0m         \u001b[0mprint\u001b[0m\u001b[1;33m(\u001b[0m\u001b[1;34m\"Open orders already exist, no more buys\"\u001b[0m\u001b[1;33m)\u001b[0m\u001b[1;33m\u001b[0m\u001b[1;33m\u001b[0m\u001b[0m\n\u001b[1;32m----> 8\u001b[1;33m         \u001b[0mtime\u001b[0m\u001b[1;33m.\u001b[0m\u001b[0msleep\u001b[0m\u001b[1;33m(\u001b[0m\u001b[1;36m10\u001b[0m\u001b[1;33m)\u001b[0m\u001b[1;33m\u001b[0m\u001b[1;33m\u001b[0m\u001b[0m\n\u001b[0m\u001b[0;32m      9\u001b[0m         \u001b[1;32mcontinue\u001b[0m\u001b[1;33m\u001b[0m\u001b[1;33m\u001b[0m\u001b[0m\n\u001b[0;32m     10\u001b[0m \u001b[1;33m\u001b[0m\u001b[0m\n",
      "\u001b[1;31mKeyboardInterrupt\u001b[0m: "
     ]
    }
   ],
   "source": [
    "while 1:\n",
    "    orders = cliente.get_open_orders(symbol=simbolo)\n",
    "    print(\"Actual Open Orders: \") \n",
    "    print(orders)\n",
    "\n",
    "    if(len(orders) !=0):   # If there is open orders the bot is not going to open a new buy order\n",
    "        print(\"Open orders already exist, no more buys\")\n",
    "        time.sleep(10)\n",
    "        continue\n",
    "\n",
    "    # Bring actual price of the cryptocoin\n",
    "\n",
    "    list_of_tickers = cliente.get_all_tickers()\n",
    "    for tick_2 in list_of_tickers:\n",
    "        if tick_2['symbol'] == simbolo:\n",
    "            symbolPrice = float(tick_2['price'])    # Price\n",
    "    \n",
    "\n",
    "    ma48 = _ma48_()\n",
    "    if (ma48 == 0): continue\n",
    "\n",
    "    print(\"---------\" + simbolo + \"-----------\")\n",
    "    print(\" Actual price of MA48 \" + str('{:.8f}'.format(ma48)))     #The .8 is for the decimals Binance's API is going to return us\n",
    "    print(\" Crypto's actual price  \"+ str('{:.8f}'.format(symbolPrice)))\n",
    "    print(\" Price to buy at \"+ str('{:.8f}'.format(ma48*0.995)))    # 0.995 represents security value to execute an operation\n",
    "\n",
    "    if (not trend()): \n",
    "        print (\"Downwards trend, no buy orders are going to be executed\")\n",
    "\n",
    "        time.sleep(10)\n",
    "        continue\n",
    "    else:\n",
    "        print(\"Upwards trennd, buy if no open orders already\")\n",
    "\n",
    "    if(symbolPrice > ma48*0.995):\n",
    "        print(\"***  BUYING  ***\")\n",
    "\n",
    "    order = cliente.order_market_buy(\n",
    "        #API =   local\n",
    "            symbol = simbolo,\n",
    "            quantity = quantityOrder\n",
    "            \n",
    "        )\n",
    "    time.sleep(5)\n",
    "\n",
    "    # Put OCO order (One cancells other)\n",
    "\n",
    "    info = cliente.get_symbol_info(simbolo)\n",
    "    \n",
    "    #print(info['filters'][2]['minQty'])\n",
    "\n",
    "    ordenOCO = cliente.create_oco_order(\n",
    "            symbol = simbolo,\n",
    "            side = SIDE_SELL,\n",
    "            stopLimitPrice = str('{:.5f}'.format(symbolPrice*0.985)),\n",
    "            stopLimitTimeInForce = TIME_IN_FORCE_GTC,\n",
    "            quantity = quantityOrder*0.999,   # We are going to put 0.999 as Binance charges a fee for the operation, so if there is tight funds Binance will return 'Insuficient funds'\n",
    "            stopPrice = str('{:.5f}'.format(symbolPrice*0.99)),\n",
    "            price = str('{:.5f}'.format(symbolPrice*1.01)),\n",
    "            )\n",
    "    \n",
    "    time.sleep(20) #mando el robot a dormir porque EN TEORIA abrio un orden, dejamos que el mercado opere.\n",
    "\n",
    "    # ERRORS\n",
    "\n",
    "    # Signature for this request is not valid. API o secret are wrong. \n",
    "    # Invalid symbol: control that the crypto symbol of the pair is correctly written. \n",
    "    # PRICE_FILTER. decimals in OCO order might be wrong...check decimals that are accepted for that pair in binance\n",
    "    # Min_NOTIONAL: depends on minimum of lot size that we can buy or sell...for example, if minimum is 10USDT, we must try and buy a little over that quantity..\n",
    "    # The relationship of the prices for the orders is not correct. \n"
   ]
  }
 ],
 "metadata": {
  "kernelspec": {
   "display_name": "Python 3 (ipykernel)",
   "language": "python",
   "name": "python3"
  },
  "language_info": {
   "codemirror_mode": {
    "name": "ipython",
    "version": 3
   },
   "file_extension": ".py",
   "mimetype": "text/x-python",
   "name": "python",
   "nbconvert_exporter": "python",
   "pygments_lexer": "ipython3",
   "version": "3.9.13"
  }
 },
 "nbformat": 4,
 "nbformat_minor": 5
}
