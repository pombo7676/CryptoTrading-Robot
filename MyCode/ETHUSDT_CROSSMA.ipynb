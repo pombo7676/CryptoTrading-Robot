{
 "cells": [
  {
   "cell_type": "markdown",
   "id": "8dc62f77",
   "metadata": {},
   "source": [
    "# Bot for trading BTCUSDT with crossing moving averages\n"
   ]
  },
  {
   "cell_type": "markdown",
   "id": "d37a1eff",
   "metadata": {},
   "source": [
    "### THIS BOT IS GOING TO OPERATE WITH CROSSING MOVING AVERAGE LINES WHEN:\n",
    "\n",
    "#### PRICE > MA5 > MA10 > MA20"
   ]
  },
  {
   "cell_type": "markdown",
   "id": "0ac344fb",
   "metadata": {},
   "source": [
    "### Installs"
   ]
  },
  {
   "cell_type": "code",
   "execution_count": 1,
   "id": "1aad9fea",
   "metadata": {},
   "outputs": [],
   "source": [
    "#%pip install python-binance \n",
    "#%pip install numpy\n",
    "#%pip install pandas"
   ]
  },
  {
   "cell_type": "markdown",
   "id": "d5a10548",
   "metadata": {},
   "source": [
    "### Imports"
   ]
  },
  {
   "cell_type": "code",
   "execution_count": 2,
   "id": "1b159702",
   "metadata": {},
   "outputs": [],
   "source": [
    "import config\n",
    "import math\n",
    "from binance.client import Client\n",
    "from binance.enums import *\n",
    "import time\n",
    "import numpy as np\n",
    "from IPython.display import clear_output\n",
    "\n",
    "cliente = Client(config.API_KEY, config.API_SECRET, tld='com')\n"
   ]
  },
  {
   "cell_type": "markdown",
   "id": "0660e810",
   "metadata": {},
   "source": [
    "# Definition of coin and parameters"
   ]
  },
  {
   "cell_type": "code",
   "execution_count": 3,
   "id": "e91aed13",
   "metadata": {},
   "outputs": [],
   "source": [
    "simbolo = 'ETHUSDT'   #Name of specific Symbol we are going to trade\n",
    "\n",
    "simboloBalance = 'ETH'\n",
    "\n",
    "quantityOrder_USDT = 15 # Quantity of USDT I am going to buy per operation. Around 15$...\n",
    "\n",
    "decimales = '{:.2f}' # Number of decimals in buy parameters, if there is too many decimals depending on the cryptocurrency there will be an error of PRICEFILTER \n",
    "\n",
    "decimals = 4"
   ]
  },
  {
   "cell_type": "markdown",
   "id": "e0916b01",
   "metadata": {},
   "source": [
    "# Functions"
   ]
  },
  {
   "cell_type": "markdown",
   "id": "61af8701",
   "metadata": {},
   "source": [
    "## ***** MOVING AVERAGES WITH 5 MINS CANDLESTICKS ******\n",
    "\n"
   ]
  },
  {
   "cell_type": "markdown",
   "id": "84675374",
   "metadata": {},
   "source": [
    "### Moving Average 5 in periods of 5mins during 25 minutes"
   ]
  },
  {
   "cell_type": "code",
   "execution_count": 4,
   "id": "94963070",
   "metadata": {},
   "outputs": [],
   "source": [
    "def _ma5_():\n",
    "\n",
    "    ma5_local = 0\n",
    "    sum = 0\n",
    "\n",
    "    klines = cliente.get_historical_klines(simbolo, Client.KLINE_INTERVAL_5MINUTE, \"25 minute ago UTC\")\n",
    "\n",
    "    if(len(klines)==5):\n",
    "        for i in range (0,5):\n",
    "            sum = sum +float(klines[i][4]) # 4 value makes reference to the closing price of a candlestick\n",
    "        \n",
    "        ma5_local = sum / 5\n",
    "\n",
    "    return ma5_local"
   ]
  },
  {
   "cell_type": "markdown",
   "id": "656d2b28",
   "metadata": {},
   "source": [
    "### Moving Average 10 in periods of 5mins during 50 minutes"
   ]
  },
  {
   "cell_type": "code",
   "execution_count": 5,
   "id": "75469369",
   "metadata": {},
   "outputs": [],
   "source": [
    "def _ma10_():\n",
    "\n",
    "    ma10_local = 0\n",
    "    sum = 0\n",
    "\n",
    "    klines = cliente.get_historical_klines(simbolo, Client.KLINE_INTERVAL_5MINUTE, \"50 minute ago UTC\")\n",
    "\n",
    "    if(len(klines)==10):\n",
    "        for i in range (0,10):\n",
    "            sum = sum +float(klines[i][4]) # 4 value makes reference to the closing price of a candlestick\n",
    "        \n",
    "        ma10_local = sum / 10\n",
    "\n",
    "    return ma10_local"
   ]
  },
  {
   "cell_type": "markdown",
   "id": "284e8a0e",
   "metadata": {},
   "source": [
    "### Moving Average 20 in periods of 5mins during 100 minutes"
   ]
  },
  {
   "cell_type": "code",
   "execution_count": 6,
   "id": "c6f9eda2",
   "metadata": {},
   "outputs": [],
   "source": [
    "def _ma20_():\n",
    "\n",
    "    ma20_local = 0\n",
    "    sum = 0\n",
    "\n",
    "    klines = cliente.get_historical_klines(simbolo, Client.KLINE_INTERVAL_5MINUTE, \"100 minute ago UTC\")\n",
    "\n",
    "    if(len(klines)==20):\n",
    "        for i in range (0,20):\n",
    "            sum = sum +float(klines[i][4]) # 4 value makes reference to the closing price of a candlestick\n",
    "        \n",
    "        ma20_local = sum / 20\n",
    "\n",
    "    return ma20_local"
   ]
  },
  {
   "cell_type": "markdown",
   "id": "610040d1",
   "metadata": {},
   "source": [
    "### Function to round down decimals"
   ]
  },
  {
   "cell_type": "code",
   "execution_count": 7,
   "id": "22ff7839",
   "metadata": {},
   "outputs": [],
   "source": [
    "def round_decimals_down(number:float, decimals:int=4):\n",
    "    \"\"\"\n",
    "    Returns a value rounded down to a specific number of decimal places.\n",
    "    \"\"\"\n",
    "    if not isinstance(decimals, int):\n",
    "        raise TypeError(\"decimal places must be an integer\")\n",
    "    elif decimals < 0:\n",
    "        raise ValueError(\"decimal places has to be 0 or more\")\n",
    "    elif decimals == 0:\n",
    "        return math.floor(number)\n",
    "\n",
    "    factor = 10 ** decimals\n",
    "    return math.floor(number * factor) / factor"
   ]
  },
  {
   "cell_type": "markdown",
   "id": "fbc6121c",
   "metadata": {},
   "source": [
    "### *** Loop operation for continuous trading ***"
   ]
  },
  {
   "cell_type": "code",
   "execution_count": null,
   "id": "779f1a72",
   "metadata": {},
   "outputs": [
    {
     "name": "stdout",
     "output_type": "stream",
     "text": [
      "\n",
      "-----------------------------------------------------\n",
      "Actual open orders\n",
      "[{'symbol': 'ETHUSDT', 'orderId': 11997712425, 'orderListId': 79518586, 'clientOrderId': 'v0h6WNA0hM6QbCFlBu6VL7', 'price': '1267.89000000', 'origQty': '0.01160000', 'executedQty': '0.00000000', 'cummulativeQuoteQty': '0.00000000', 'status': 'NEW', 'timeInForce': 'GTC', 'type': 'STOP_LOSS_LIMIT', 'side': 'SELL', 'stopPrice': '1274.33000000', 'icebergQty': '0.00000000', 'time': 1671098126963, 'updateTime': 1671098126963, 'isWorking': False, 'workingTime': -1, 'origQuoteOrderQty': '0.00000000', 'selfTradePreventionMode': 'NONE'}, {'symbol': 'ETHUSDT', 'orderId': 11997712426, 'orderListId': 79518586, 'clientOrderId': 'uXVUm8af2rVsdhCL1FEq0o', 'price': '1300.07000000', 'origQty': '0.01160000', 'executedQty': '0.00000000', 'cummulativeQuoteQty': '0.00000000', 'status': 'NEW', 'timeInForce': 'GTC', 'type': 'LIMIT_MAKER', 'side': 'SELL', 'stopPrice': '0.00000000', 'icebergQty': '0.00000000', 'time': 1671098126963, 'updateTime': 1671098126963, 'isWorking': True, 'workingTime': 1671098126963, 'origQuoteOrderQty': '0.00000000', 'selfTradePreventionMode': 'NONE'}]\n",
      "\n",
      "There is 2 orders opened, no new buys\n",
      "Quantity to sell   0.0115\n",
      "Sell Price if it goes DOWN   1267.89000000\n",
      "Sell Price if it goes UP   1300.07000000\n",
      "-----------------------------------------------------\n",
      "\n"
     ]
    }
   ],
   "source": [
    "count = 0\n",
    "while 1:\n",
    "    \n",
    "    for i in range(10):\n",
    "        if count == 3:\n",
    "            clear_output(wait=True)\n",
    "            count = 0\n",
    "    count += 1\n",
    "    \n",
    "    requestMinQtOrder = cliente.get_symbol_info(simbolo)\n",
    "    ordenes = cliente.get_open_orders(symbol=simbolo)\n",
    "    print(\"\")\n",
    "    print(\"-----------------------------------------------------\")\n",
    "    print(\"Actual open orders\") # si devuelve [] esta vacio\n",
    "    print(ordenes)\n",
    "    print(\"\")\n",
    "    \n",
    "    quantityOrder = 0\n",
    "    account = cliente.get_account()\n",
    "    balances = account['balances']\n",
    "    for i in balances:\n",
    "        if simboloBalance in i['asset']:\n",
    "            quantityOrder += float(i['locked'])\n",
    "\n",
    "    quantityOrder_left = round_decimals_down(quantityOrder, decimals)\n",
    "    \n",
    "   \n",
    "    if(len(ordenes) != 0 ):\n",
    "        print('There is ' +str(len(ordenes)) + ' orders opened, no new buys')\n",
    "        print(\"Quantity to sell   \" + str(quantityOrder_left))\n",
    "        print(\"Sell Price if it goes DOWN   \" + ordenes[0]['price'])\n",
    "        print(\"Sell Price if it goes UP   \" + ordenes[1]['price'])\n",
    "        print(\"-----------------------------------------------------\")\n",
    "        print(\"\")\n",
    "        time.sleep(20) #mando el robot a dormir porque EN TEORIA abrio un orden, dejamos que el mercado opere.\n",
    "        continue\n",
    "        \n",
    "    # I obtain the price of the cryptocurrency I am going to trade and transform quantityOrder_USDT into quantityOrder\n",
    "    list_of_tickers = cliente.get_all_tickers()\n",
    "    for tick_2 in list_of_tickers:\n",
    "        if tick_2['symbol'] == simbolo:\n",
    "            symbolPrice = float(tick_2['price'])\n",
    "            quantityOrder = round_decimals_down(quantityOrder_USDT/symbolPrice , decimals)\n",
    "    # END of obtaining price and quantityOrder.\n",
    "    \n",
    "    \n",
    "    ma5  = _ma5_()\n",
    "    ma10 = _ma10_()\n",
    "    ma20 = _ma20_()\n",
    "\n",
    "    if(ma20 == 0 ): continue\n",
    "\n",
    "    minQtOrder = float(requestMinQtOrder['filters'][1]['minQty'])\n",
    "\n",
    "    if (minQtOrder !=1 ):\n",
    "        print(\"Order accepts decimals\")\n",
    "        print(\"\")\n",
    "        order_local = '{:.8f}'.format(quantityOrder*0.999)\n",
    "    else:\n",
    "        print(\"Order accepts only integer numbers\")\n",
    "        print(\"\")\n",
    "        order_local = '{:.0f}'.format(quantityOrder*0.999)\n",
    "    \n",
    "    # importante acomodar los decimales de la moneda porque arroja Error Price Filter.\n",
    "\n",
    "    print(\"--------\" + simbolo + \"---------\")\n",
    "    print(\" Actual price of \" + simbolo + \" is: \" + str(decimales.format(symbolPrice))) #el .8 es la cantidad de decimales que no trae el simbolo \n",
    "    print(\"\")\n",
    "    print(\"*******************************\")\n",
    "    print(\" Price to buy \" + str(decimales.format(ma20*0.995)))\n",
    "    print(\" Price MA5 \" + str(decimales.format(ma5)))\n",
    "    print(\" Price MA10 \" + str(decimales.format(ma10)))\n",
    "    print(\" Price MA20 \" + str(decimales.format(ma20)))\n",
    "    print(\"*******************************\\n\")\n",
    "\n",
    "\n",
    "    if ( symbolPrice > ma5 and ma5 > ma10 and ma10 > ma20):\n",
    "        print(\"Buying if there is no open orders\")\n",
    "        print(\"\")\n",
    "    \n",
    "    # ORDENES DE PRUEBA \n",
    "        #order = cliente.create_test_order(\n",
    "        #symbol = simbolo,\n",
    "        #side = SIDE_BUY,\n",
    "        #type = ORDER_TYPE_LIMIT,\n",
    "        #timeInForce = TIME_IN_FORCE_GTC,\n",
    "        #quantity = cantidadOrden*0.999,\n",
    "        #price = str(decimales.format(symbolPrice*1.02)),\n",
    "        #)\n",
    "#\n",
    "        #orders = cliente(symbol=simbolo)\n",
    "        #print(orders)\n",
    "\n",
    "        order = cliente.order_market_buy(\n",
    "            symbol = simbolo,\n",
    "            quantity = quantityOrder\n",
    "        )\n",
    "        \n",
    "        quantityOrder = 0\n",
    "        account = cliente.get_account()\n",
    "        balances = account['balances']\n",
    "        for i in balances:\n",
    "            if simboloBalance in i['asset']:\n",
    "                quantityOrder += float(i['free'])\n",
    "\n",
    "        quantityOrder_left = round_decimals_down(quantityOrder, decimals)\n",
    "\n",
    "        time.sleep(5)\n",
    "\n",
    "        #Pongo orden OCO\n",
    "        print(\"\")\n",
    "        print(\"PLACING OCO ORDER\")\n",
    "        print(\"StopLimitPrice >   \" +str(decimales.format(symbolPrice*0.985)),)\n",
    "        print(\"Quantity >   \" + str(quantityOrder_left))\n",
    "        print(\"StopPrice >   \" + str(decimales.format(symbolPrice*0.99)))\n",
    "        print(\"Price >   \" + str(decimales.format(symbolPrice*1.01)))\n",
    "        print(\"\")\n",
    "        print(\"-----------------------------------------------------\")\n",
    "        print(\"\")\n",
    "        \n",
    "        ordenOCO = cliente.create_oco_order(\n",
    "            symbol = simbolo,\n",
    "            side = SIDE_SELL,\n",
    "            stopLimitPrice = str(decimales.format(symbolPrice*0.985)),\n",
    "            stopLimitTimeInForce = TIME_IN_FORCE_GTC,\n",
    "            ## Error  LOT SIZE es porque no soporta decimales en quantity\n",
    "            quantity = quantityOrder_left, # BINANCE cobra un fee, tarifa. Sino va a tirar un error de insuficent FOUNDS. O Error LOT SIZE. \n",
    "            stopPrice = str(decimales.format(symbolPrice*0.99)),\n",
    "            price = str(decimales.format(symbolPrice*1.01)), \n",
    "            )\n",
    "    \n",
    "        time.sleep(20) #mando el robot a dormir porque EN TEORIA abrio un orden, dejamos que el mercado opere.\n",
    "\n",
    "    else: \n",
    "        print(\"Conditions are not met\")\n",
    "        print(\"-----------------------------------------------------\")\n",
    "        print(\"\")\n",
    "        time.sleep(20) #mando el robot a dormir porque EN TEORIA abrio un orden, dejamos que el mercado opere.\n",
    "    \n",
    "    # FIN ordenes de prueba\n",
    "\n",
    "# corregir ma20\n",
    "# eliminar import BTC primera linea\n",
    "# corregir filter por FILTERS\n",
    "# corregir identado en ordenes de prueba"
   ]
  },
  {
   "cell_type": "markdown",
   "id": "8883ce0c",
   "metadata": {},
   "source": [
    "# DEBUGGING\n"
   ]
  },
  {
   "cell_type": "code",
   "execution_count": null,
   "id": "7767ec2c",
   "metadata": {},
   "outputs": [],
   "source": [
    "def _ma5_():\n",
    "\n",
    "    ma5_local = 0\n",
    "    sum = 0\n",
    "\n",
    "    klines = cliente.get_historical_klines(simbolo, Client.KLINE_INTERVAL_5MINUTE, \"25 minute ago UTC\")\n",
    "\n",
    "    if(len(klines)==5):\n",
    "        for i in range (0,5):\n",
    "            sum = sum +float(klines[i][4]) # 4 precio de cierre de la vela\n",
    "        \n",
    "        ma5_local = sum / 5\n",
    "\n",
    "    return ma5_local\n",
    "\n",
    "def _ma10_():\n",
    "\n",
    "    ma10_local = 0\n",
    "    sum = 0\n",
    "\n",
    "    klines = cliente.get_historical_klines(simbolo, Client.KLINE_INTERVAL_5MINUTE, \"50 minute ago UTC\")\n",
    "\n",
    "    if(len(klines)==10):\n",
    "        for i in range (0,10):\n",
    "            sum = sum +float(klines[i][4]) # 4 precio de cierre de la vela\n",
    "        \n",
    "        ma10_local = sum / 10\n",
    "\n",
    "    return ma10_local\n",
    "\n",
    "def _ma20_():\n",
    "\n",
    "    ma20_local = 0\n",
    "    sum = 0\n",
    "\n",
    "    klines = cliente.get_historical_klines(simbolo, Client.KLINE_INTERVAL_5MINUTE, \"100 minute ago UTC\")\n",
    "\n",
    "    if(len(klines)==20):\n",
    "        for i in range (0,20):\n",
    "            sum = sum +float(klines[i][4]) # 4 precio de cierre de la vela\n",
    "        \n",
    "        ma20_local = sum / 20\n",
    "\n",
    "    return ma20_local\n",
    "\n",
    "ma5  = _ma5_()\n",
    "ma10 = _ma10_()\n",
    "ma20 = _ma20_()\n",
    "\n",
    "print(ma5 , ma10, ma20)"
   ]
  },
  {
   "cell_type": "code",
   "execution_count": null,
   "id": "1409c541",
   "metadata": {},
   "outputs": [],
   "source": [
    "requestMinQtOrder = cliente.get_symbol_info(simbolo)\n",
    "\n",
    "requestMinQtOrder\n",
    "\n",
    "int(math.floor(float(requestMinQtOrder['filters'][1]['minQty'])))"
   ]
  },
  {
   "cell_type": "code",
   "execution_count": null,
   "id": "976da60b",
   "metadata": {},
   "outputs": [],
   "source": [
    "account = cliente.get_account()\n",
    "\n",
    "account['balances']"
   ]
  },
  {
   "cell_type": "code",
   "execution_count": null,
   "id": "fa64b0c4",
   "metadata": {},
   "outputs": [],
   "source": [
    "#balances = cliente.get_account()\n",
    "quantityOrder = 0\n",
    "account = cliente.get_account()\n",
    "balances = account['balances']\n",
    "for i in balances:\n",
    "    if simboloBalance in i['asset']:\n",
    "        quantityOrder += float(i['free'])\n",
    "        \n",
    "quantityOrder = round_decimals_down(quantityOrder, decimals)\n",
    "\n",
    "quantityOrder"
   ]
  },
  {
   "cell_type": "code",
   "execution_count": null,
   "id": "8e2c481c",
   "metadata": {},
   "outputs": [],
   "source": [
    "quantityOrder"
   ]
  },
  {
   "cell_type": "code",
   "execution_count": null,
   "id": "a3691c17",
   "metadata": {},
   "outputs": [],
   "source": [
    "round_decimals_down(quantityOrder, 4)"
   ]
  },
  {
   "cell_type": "code",
   "execution_count": null,
   "id": "b9dadfe8",
   "metadata": {},
   "outputs": [],
   "source": []
  }
 ],
 "metadata": {
  "kernelspec": {
   "display_name": "Python 3 (ipykernel)",
   "language": "python",
   "name": "python3"
  },
  "language_info": {
   "codemirror_mode": {
    "name": "ipython",
    "version": 3
   },
   "file_extension": ".py",
   "mimetype": "text/x-python",
   "name": "python",
   "nbconvert_exporter": "python",
   "pygments_lexer": "ipython3",
   "version": "3.9.13"
  }
 },
 "nbformat": 4,
 "nbformat_minor": 5
}
