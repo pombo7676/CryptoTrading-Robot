{
 "cells": [
  {
   "cell_type": "markdown",
   "id": "8dc62f77",
   "metadata": {},
   "source": [
    "# Bot for trading BTCUSDT with crossing moving averages\n"
   ]
  },
  {
   "cell_type": "markdown",
   "id": "1d23e631",
   "metadata": {},
   "source": [
    "### THIS BOT IS GOING TO OPERATE WITH CROSSING MOVING AVERAGE LINES WHEN:\n",
    "\n",
    "#### PRICE > MA5 > MA10 > MA20"
   ]
  },
  {
   "cell_type": "markdown",
   "id": "0ac344fb",
   "metadata": {},
   "source": [
    "### Installs"
   ]
  },
  {
   "cell_type": "code",
   "execution_count": 11,
   "id": "1aad9fea",
   "metadata": {},
   "outputs": [
    {
     "name": "stdout",
     "output_type": "stream",
     "text": [
      "Requirement already satisfied: colorama in c:\\programdata\\anaconda3\\lib\\site-packages (0.4.5)\n",
      "Note: you may need to restart the kernel to use updated packages.\n"
     ]
    }
   ],
   "source": [
    "#%pip install python-binance \n",
    "#%pip install numpy\n",
    "#%pip install pandas\n",
    "#%pip install colorama"
   ]
  },
  {
   "cell_type": "markdown",
   "id": "d5a10548",
   "metadata": {},
   "source": [
    "### Imports"
   ]
  },
  {
   "cell_type": "code",
   "execution_count": 16,
   "id": "1b159702",
   "metadata": {},
   "outputs": [],
   "source": [
    "import config\n",
    "import math\n",
    "from binance.client import Client\n",
    "from binance.enums import *\n",
    "import time\n",
    "import numpy as np\n",
    "from colorama import init\n",
    "from colorama import Fore, Back, Style\n",
    "init()\n",
    "\n",
    "\n",
    "cliente = Client(config.API_KEY, config.API_SECRET, tld='com')\n",
    "\n"
   ]
  },
  {
   "cell_type": "markdown",
   "id": "c0a493df",
   "metadata": {},
   "source": [
    "# Definition of coin and parameters"
   ]
  },
  {
   "cell_type": "code",
   "execution_count": 4,
   "id": "9461e320",
   "metadata": {},
   "outputs": [],
   "source": [
    "simbolo = 'SANDUSDT'   #Name of specific Symbol we are going to trade\n",
    "\n",
    "simboloBalance = 'SAND'\n",
    "\n",
    "quantityOrder = 20 # Quantity of SAND I am going to buy per operation. Around 11$...\n",
    "\n",
    "decimales = '{:.4f}' # Number of decimals in buy parameters, if there is too many decimals depending on the cryptocurrency there will be an error of PRICEFILTER "
   ]
  },
  {
   "cell_type": "markdown",
   "id": "e0916b01",
   "metadata": {},
   "source": [
    "# Functions"
   ]
  },
  {
   "cell_type": "markdown",
   "id": "fa216fc3",
   "metadata": {},
   "source": [
    "## ***** MOVING AVERAGES WITH 5 MINS CANDLESTICKS ******\n",
    "\n"
   ]
  },
  {
   "cell_type": "markdown",
   "id": "7cee5ae8",
   "metadata": {},
   "source": [
    "### Moving Average 5 in periods of 5mins during 25 minutes"
   ]
  },
  {
   "cell_type": "code",
   "execution_count": 5,
   "id": "94963070",
   "metadata": {},
   "outputs": [],
   "source": [
    "def _ma5_():\n",
    "\n",
    "    ma5_local = 0\n",
    "    sum = 0\n",
    "\n",
    "    klines = cliente.get_historical_klines(simbolo, Client.KLINE_INTERVAL_5MINUTE, \"25 minute ago UTC\")\n",
    "\n",
    "    if(len(klines)==5):\n",
    "        for i in range (0,5):\n",
    "            sum = sum +float(klines[i][4]) # 4 value makes reference to the closing price of a candlestick\n",
    "        \n",
    "        ma5_local = sum / 5\n",
    "\n",
    "    return ma5_local"
   ]
  },
  {
   "cell_type": "markdown",
   "id": "1337fb4a",
   "metadata": {},
   "source": [
    "### Moving Average 10 in periods of 5mins during 50 minutes"
   ]
  },
  {
   "cell_type": "code",
   "execution_count": 6,
   "id": "6e2b068b",
   "metadata": {},
   "outputs": [],
   "source": [
    "def _ma10_():\n",
    "\n",
    "    ma10_local = 0\n",
    "    sum = 0\n",
    "\n",
    "    klines = cliente.get_historical_klines(simbolo, Client.KLINE_INTERVAL_5MINUTE, \"50 minute ago UTC\")\n",
    "\n",
    "    if(len(klines)==10):\n",
    "        for i in range (0,10):\n",
    "            sum = sum +float(klines[i][4]) # 4 value makes reference to the closing price of a candlestick\n",
    "        \n",
    "        ma10_local = sum / 10\n",
    "\n",
    "    return ma10_local"
   ]
  },
  {
   "cell_type": "markdown",
   "id": "66d605f8",
   "metadata": {},
   "source": [
    "### Moving Average 20 in periods of 5mins during 100 minutes"
   ]
  },
  {
   "cell_type": "code",
   "execution_count": 7,
   "id": "1c6e076a",
   "metadata": {},
   "outputs": [],
   "source": [
    "def _ma20_():\n",
    "\n",
    "    ma20_local = 0\n",
    "    sum = 0\n",
    "\n",
    "    klines = cliente.get_historical_klines(simbolo, Client.KLINE_INTERVAL_5MINUTE, \"100 minute ago UTC\")\n",
    "\n",
    "    if(len(klines)==20):\n",
    "        for i in range (0,20):\n",
    "            sum = sum +float(klines[i][4]) # 4 value makes reference to the closing price of a candlestick\n",
    "        \n",
    "        ma20_local = sum / 20\n",
    "\n",
    "    return ma20_local"
   ]
  },
  {
   "cell_type": "markdown",
   "id": "fbc6121c",
   "metadata": {},
   "source": [
    "### *** Loop operation for continuous trading ***"
   ]
  },
  {
   "cell_type": "code",
   "execution_count": 20,
   "id": "779f1a72",
   "metadata": {},
   "outputs": [
    {
     "name": "stdout",
     "output_type": "stream",
     "text": [
      " Balance en billetera => BTC 0.16645856  == Ordenes actuales abiertas\n"
     ]
    },
    {
     "ename": "KeyError",
     "evalue": "'minQty'",
     "output_type": "error",
     "traceback": [
      "\u001b[1;31m---------------------------------------------------------------------------\u001b[0m",
      "\u001b[1;31mKeyError\u001b[0m                                  Traceback (most recent call last)",
      "\u001b[1;32m~\\AppData\\Local\\Temp\\ipykernel_20164\\3567262461.py\u001b[0m in \u001b[0;36m<module>\u001b[1;34m\u001b[0m\n\u001b[0;32m     69\u001b[0m \u001b[1;33m\u001b[0m\u001b[0m\n\u001b[0;32m     70\u001b[0m \u001b[1;33m\u001b[0m\u001b[0m\n\u001b[1;32m---> 71\u001b[1;33m     \u001b[0mminQtOrder\u001b[0m \u001b[1;33m=\u001b[0m \u001b[0mfloat\u001b[0m\u001b[1;33m(\u001b[0m\u001b[0mrequestMinQtOrder\u001b[0m\u001b[1;33m[\u001b[0m\u001b[1;34m'filters'\u001b[0m\u001b[1;33m]\u001b[0m\u001b[1;33m[\u001b[0m\u001b[1;36m2\u001b[0m\u001b[1;33m]\u001b[0m\u001b[1;33m[\u001b[0m\u001b[1;34m'minQty'\u001b[0m\u001b[1;33m]\u001b[0m\u001b[1;33m)\u001b[0m\u001b[1;33m\u001b[0m\u001b[1;33m\u001b[0m\u001b[0m\n\u001b[0m\u001b[0;32m     72\u001b[0m \u001b[1;33m\u001b[0m\u001b[0m\n\u001b[0;32m     73\u001b[0m     \u001b[1;32mif\u001b[0m \u001b[1;33m(\u001b[0m\u001b[0mminQtOrder\u001b[0m \u001b[1;33m!=\u001b[0m\u001b[1;36m1\u001b[0m \u001b[1;33m)\u001b[0m\u001b[1;33m:\u001b[0m\u001b[1;33m\u001b[0m\u001b[1;33m\u001b[0m\u001b[0m\n",
      "\u001b[1;31mKeyError\u001b[0m: 'minQty'"
     ]
    }
   ],
   "source": [
    "while 1:\n",
    "\n",
    "     ## Calculamos el balance en cuenta para poner orden OCO Exacta y evitar LotSize &/or Insuficent Balance\n",
    "    \n",
    "    sum_simbolo = 0.0\n",
    "    balances = cliente.get_account()\n",
    "    for _balance in balances[\"balances\"]:\n",
    "        asset = _balance[\"asset\"]\n",
    "        if float(_balance[\"free\"]) != 0.0 or float(_balance[\"locked\"]) != 0.0:\n",
    "            try:\n",
    "                simbolo_quantity = float(_balance[\"free\"]) + float(_balance[\"locked\"])\n",
    "                if asset == simboloBalance:\n",
    "                    sum_simbolo += simbolo_quantity\n",
    "                else:\n",
    "                    _price = cliente.get_symbol_ticker(symbol=asset + simboloBalance)\n",
    "                    sum_simbolo += simbolo_quantity * float(_price[\"price\"])\n",
    "            except:\n",
    "                pass\n",
    "    current_simbolo_price_USD = cliente.get_symbol_ticker(symbol=\"SANDUSDT\")[\"price\"]\n",
    "    own_usd = sum_simbolo * float(current_simbolo_price_USD)\n",
    "    print(\" Balance en billetera => \"  + simboloBalance + \" %.8f  == \" % sum_simbolo, end=\"\")\n",
    "    \n",
    "    time.sleep(10)\n",
    "        \n",
    "        \n",
    "       \n",
    "\n",
    "    \n",
    "\n",
    "    requestMinQtOrder = cliente.get_symbol_info(simbolo)\n",
    "    ordenes = cliente.get_open_orders(symbol=simbolo)\n",
    "    print(Fore.YELLOW + \"Ordenes actuales abiertas\") # si devuelve [] esta vacio\n",
    "    \n",
    "\n",
    "   \n",
    "    if(len(ordenes) != 0 ):\n",
    "        print(len(ordenes))\n",
    "        print(\"Cantidad a vender   \" + str(math.floor(sum_simbolo)))\n",
    "        print(\"Precio de venta si BAJA   \" + ordenes[0]['price'])\n",
    "        print(\"Precio de venta si SUBE   \" + ordenes[1]['price'])\n",
    "        time.sleep(20) #mando el robot a dormir porque EN TEORIA abrio un orden, dejamos que el mercado opere.\n",
    "        continue\n",
    "\n",
    "    \n",
    "\n",
    "    if(len(ordenes) !=0 ):\n",
    "        print(Fore.RED + \" Hay ordenes abiertas, no se compra\")\n",
    "        time.sleep(10)\n",
    "        continue\n",
    "\n",
    "    # obtengo el precio del token que estoy tradeando\n",
    "    list_of_tickers = cliente.get_all_tickers()\n",
    "    for tick_2 in list_of_tickers:\n",
    "        if tick_2['symbol'] == simbolo:\n",
    "            symbolPrice = float(tick_2['price'])\n",
    "    # fin obtener precio. \n",
    "\n",
    "    ma5  = _ma5_()\n",
    "    ma10 = _ma10_()\n",
    "    ma20 = _ma20_()\n",
    "\n",
    "    if(ma20 == 0 ): continue\n",
    "\n",
    "    requestMinQtOrder = cliente.get_symbol_info(simbolo)\n",
    "\n",
    "    \n",
    "\n",
    "    #print(\"Cantidad minima de ordenes de compra es: \" + requestMinQtOrder['filters'][2]['minQty'])\n",
    "\n",
    "\n",
    "    minQtOrder = float(requestMinQtOrder['filters'][1]['minQty'])\n",
    "\n",
    "    if (minQtOrder !=1 ):\n",
    "        print(\"ordenes acepta decimales\")\n",
    "        order_local = '{:.8f}'.format(cantidadOrden*0.999)\n",
    "    else:\n",
    "        print(\"ordenes acepta SOLO numeros enteros\")\n",
    "        order_local = '{:.0f}'.format(cantidadOrden*0.999)\n",
    "    \n",
    "    # importante acomodar los decimales de la moneda porque arroja Error Price Filter.\n",
    "\n",
    "    print(Fore.YELLOW + \"--------\" + simbolo + \"---------\")\n",
    "    print(\" Precio actual de \" + simbolo + \"es: \" + str(decimales.format(symbolPrice))) #el .8 es la cantidad de decimales que no trae el simbolo \n",
    "    print(\"*******************************\")\n",
    "    print(Fore.GREEN + \" Precio MA5 \" + str(decimales.format(ma5)))\n",
    "    print(Fore.YELLOW + \" Precio MA10 \" + str(decimales.format(ma10)))\n",
    "    print(Fore.RED + \" Precio MA20 \" + str(decimales.format(ma20)))\n",
    "    print(\" Precio en que se va a comprar\" + str(decimales.format(ma20*0.995)))\n",
    "\n",
    "\n",
    "    if ( symbolPrice > ma5 and ma5 > ma10 and ma10 > ma20):\n",
    "        print(Fore.GREEN + \"Comprando si no hay otras ordenes abiertas\")\n",
    "    \n",
    "    # ORDENES DE PRUEBA \n",
    "        #order = cliente.create_test_order(\n",
    "        #symbol = simbolo,\n",
    "        #side = SIDE_BUY,\n",
    "        #type = ORDER_TYPE_LIMIT,\n",
    "        #timeInForce = TIME_IN_FORCE_GTC,\n",
    "        #quantity = cantidadOrden*0.999,\n",
    "        #price = str(decimales.format(symbolPrice*1.02)),\n",
    "        #)\n",
    "#\n",
    "        #orders = cliente(symbol=simbolo)\n",
    "        #print(orders)\n",
    "\n",
    "        order = cliente.order_market_buy(\n",
    "            symbol = simbolo,\n",
    "            quantity = cantidadOrden\n",
    "        )\n",
    "        time.sleep(5)\n",
    "\n",
    "        #Pongo orden OCO\n",
    "        print(\"COLOCANDO ORDEN OCO\")\n",
    "        print(\"StopLimitPrice >   \" +str(decimales.format(symbolPrice*0.985)),)\n",
    "        print(\"Cantidad >   \" + str(math.floor((sum_simbolo))))\n",
    "        print(\"StopPrice >   \" + str(decimales.format(symbolPrice*0.99)))\n",
    "        print(\"Precio >   \" + str(decimales.format(symbolPrice*1.01)))\n",
    "\n",
    "        ordenOCO = cliente.create_oco_order(\n",
    "            symbol = simbolo,\n",
    "            side = SIDE_SELL,\n",
    "            stopLimitPrice = str(decimales.format(symbolPrice*0.985)),\n",
    "            stopLimitTimeInForce = TIME_IN_FORCE_GTC,\n",
    "            ## Error  LOT SIZE es porque no soporta decimales en quantity\n",
    "            quantity = str(math.floor((sum_simbolo))), # BINANCE cobra un fee, tarifa. Sino va a tirar un error de insuficent FOUNDS. O Error LOT SIZE. \n",
    "            stopPrice = str(decimales.format(symbolPrice*0.99)),\n",
    "            price = str(decimales.format(symbolPrice*1.01)), \n",
    "            )\n",
    "    \n",
    "        time.sleep(20) #mando el robot a dormir porque EN TEORIA abrio un orden, dejamos que el mercado opere.\n",
    "\n",
    "    else: \n",
    "        print(Fore.RED + \"No se cumplen las condiciones de compra\")\n",
    "        time.sleep(20) #mando el robot a dormir porque EN TEORIA abrio un orden, dejamos que el mercado opere.\n",
    "    \n",
    "    # FIN ordenes de prueba\n",
    "\n",
    "# corregir ma20\n",
    "# eliminar import BTC primera linea\n",
    "# corregir filter por FILTERS\n",
    "# corregir identado en ordenes de prueba"
   ]
  },
  {
   "cell_type": "code",
   "execution_count": 19,
   "id": "7767ec2c",
   "metadata": {},
   "outputs": [
    {
     "name": "stdout",
     "output_type": "stream",
     "text": [
      "18293.584 18229.295 18171.5245\n"
     ]
    }
   ],
   "source": [
    "def _ma5_():\n",
    "\n",
    "    ma5_local = 0\n",
    "    sum = 0\n",
    "\n",
    "    klines = cliente.get_historical_klines(simbolo, Client.KLINE_INTERVAL_5MINUTE, \"25 minute ago UTC\")\n",
    "\n",
    "    if(len(klines)==5):\n",
    "        for i in range (0,5):\n",
    "            sum = sum +float(klines[i][4]) # 4 precio de cierre de la vela\n",
    "        \n",
    "        ma5_local = sum / 5\n",
    "\n",
    "    return ma5_local\n",
    "\n",
    "def _ma10_():\n",
    "\n",
    "    ma10_local = 0\n",
    "    sum = 0\n",
    "\n",
    "    klines = cliente.get_historical_klines(simbolo, Client.KLINE_INTERVAL_5MINUTE, \"50 minute ago UTC\")\n",
    "\n",
    "    if(len(klines)==10):\n",
    "        for i in range (0,10):\n",
    "            sum = sum +float(klines[i][4]) # 4 precio de cierre de la vela\n",
    "        \n",
    "        ma10_local = sum / 10\n",
    "\n",
    "    return ma10_local\n",
    "\n",
    "def _ma20_():\n",
    "\n",
    "    ma20_local = 0\n",
    "    sum = 0\n",
    "\n",
    "    klines = cliente.get_historical_klines(simbolo, Client.KLINE_INTERVAL_5MINUTE, \"100 minute ago UTC\")\n",
    "\n",
    "    if(len(klines)==20):\n",
    "        for i in range (0,20):\n",
    "            sum = sum +float(klines[i][4]) # 4 precio de cierre de la vela\n",
    "        \n",
    "        ma20_local = sum / 20\n",
    "\n",
    "    return ma20_local\n",
    "\n",
    "ma5  = _ma5_()\n",
    "ma10 = _ma10_()\n",
    "ma20 = _ma20_()\n",
    "\n",
    "print(ma5 , ma10, ma20)"
   ]
  },
  {
   "cell_type": "code",
   "execution_count": 17,
   "id": "bea305b3",
   "metadata": {},
   "outputs": [
    {
     "data": {
      "text/plain": [
       "1"
      ]
     },
     "execution_count": 17,
     "metadata": {},
     "output_type": "execute_result"
    }
   ],
   "source": [
    "requestMinQtOrder = cliente.get_symbol_info(simbolo)\n",
    "\n",
    "requestMinQtOrder\n",
    "\n",
    "int(math.floor(float(requestMinQtOrder['filters'][1]['minQty'])))"
   ]
  },
  {
   "cell_type": "code",
   "execution_count": null,
   "id": "ad5316f2",
   "metadata": {},
   "outputs": [],
   "source": []
  }
 ],
 "metadata": {
  "kernelspec": {
   "display_name": "Python 3 (ipykernel)",
   "language": "python",
   "name": "python3"
  },
  "language_info": {
   "codemirror_mode": {
    "name": "ipython",
    "version": 3
   },
   "file_extension": ".py",
   "mimetype": "text/x-python",
   "name": "python",
   "nbconvert_exporter": "python",
   "pygments_lexer": "ipython3",
   "version": "3.9.13"
  }
 },
 "nbformat": 4,
 "nbformat_minor": 5
}
